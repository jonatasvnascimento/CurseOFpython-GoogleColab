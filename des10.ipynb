{
  "nbformat": 4,
  "nbformat_minor": 0,
  "metadata": {
    "colab": {
      "name": "des10.ipynb",
      "private_outputs": true,
      "provenance": [],
      "collapsed_sections": [],
      "authorship_tag": "ABX9TyPNklUs9DNYNiTC1biwjGQF",
      "include_colab_link": true
    },
    "kernelspec": {
      "name": "python3",
      "display_name": "Python 3"
    }
  },
  "cells": [
    {
      "cell_type": "markdown",
      "metadata": {
        "id": "view-in-github",
        "colab_type": "text"
      },
      "source": [
        "<a href=\"https://colab.research.google.com/github/jonatasvnascimento/Google-Colab-Python-CursoEmVideo/blob/main/des10.ipynb\" target=\"_parent\"><img src=\"https://colab.research.google.com/assets/colab-badge.svg\" alt=\"Open In Colab\"/></a>"
      ]
    },
    {
      "cell_type": "code",
      "metadata": {
        "id": "SJNn-W6vSd7O"
      },
      "source": [
        "# Faça um conversor de moeda:\n",
        "\n",
        "dinheiro = int(input('Digite um valor para ser convertuido: '))\n",
        "valor = dinheiro / 5.33\n",
        "\n",
        "print(f'Com {dinheiro} voce pode comprar {valor :.2f} dolares.')"
      ],
      "execution_count": null,
      "outputs": []
    }
  ]
}