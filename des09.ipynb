{
  "nbformat": 4,
  "nbformat_minor": 0,
  "metadata": {
    "colab": {
      "name": "des09.ipynb",
      "private_outputs": true,
      "provenance": [],
      "collapsed_sections": [],
      "authorship_tag": "ABX9TyMTTlW6nJyoGvt0AKY28hwC",
      "include_colab_link": true
    },
    "kernelspec": {
      "name": "python3",
      "display_name": "Python 3"
    }
  },
  "cells": [
    {
      "cell_type": "markdown",
      "metadata": {
        "id": "view-in-github",
        "colab_type": "text"
      },
      "source": [
        "<a href=\"https://colab.research.google.com/github/jonatasvnascimento/Google-Colab/blob/main/des09.ipynb\" target=\"_parent\"><img src=\"https://colab.research.google.com/assets/colab-badge.svg\" alt=\"Open In Colab\"/></a>"
      ]
    },
    {
      "cell_type": "code",
      "metadata": {
        "id": "8pUDuSzJpk7j"
      },
      "source": [
        "num = int(input('Digite um numero: '))\n",
        "\n",
        "print('-' * 12)\n",
        "print(f'{num} x 1 = {num * 1}')\n",
        "print(f'{num} x 2 = {num * 2}')\n",
        "print(f'{num} x 3 = {num * 3}')\n",
        "print(f'{num} x 4 = {num * 4}')\n",
        "print(f'{num} x 5 = {num * 5}')\n",
        "print(f'{num} x 6 = {num * 6}')\n",
        "print(f'{num} x 7 = {num * 7}')\n",
        "print(f'{num} x 8 = {num * 8}')\n",
        "print(f'{num} x 9 = {num * 9}')\n",
        "print(f'{num} x 10 = {num * 10}')\n",
        "print('-' * 12)\n"
      ],
      "execution_count": null,
      "outputs": []
    }
  ]
}