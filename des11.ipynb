{
  "nbformat": 4,
  "nbformat_minor": 0,
  "metadata": {
    "colab": {
      "name": "des11.ipynb",
      "private_outputs": true,
      "provenance": [],
      "collapsed_sections": [],
      "authorship_tag": "ABX9TyNGzCCRYg1EiiryOOVxhU7Q",
      "include_colab_link": true
    },
    "kernelspec": {
      "name": "python3",
      "display_name": "Python 3"
    }
  },
  "cells": [
    {
      "cell_type": "markdown",
      "metadata": {
        "id": "view-in-github",
        "colab_type": "text"
      },
      "source": [
        "<a href=\"https://colab.research.google.com/github/jonatasvnascimento/Google-Colab/blob/main/des11.ipynb\" target=\"_parent\"><img src=\"https://colab.research.google.com/assets/colab-badge.svg\" alt=\"Open In Colab\"/></a>"
      ]
    },
    {
      "cell_type": "code",
      "metadata": {
        "id": "K2hKN3MlVCuR"
      },
      "source": [
        "# Calcule a area a ser pintado:\n",
        "\n",
        "largura = float(input('Informe a largura da parede: '))\n",
        "altura = float(input('Informe a altura da parede: '))\n",
        "area = altura * largura\n",
        "tinta = area / 2\n",
        "print(f'Sua parede tem a dimenção {largura}x{altura} e sua area e de {area}m')\n",
        "print(f'Para pintar essa parede voce vai precisar de {tinta}l de tinta.')"
      ],
      "execution_count": null,
      "outputs": []
    }
  ]
}