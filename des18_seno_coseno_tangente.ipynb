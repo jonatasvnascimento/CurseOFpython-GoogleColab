{
  "nbformat": 4,
  "nbformat_minor": 0,
  "metadata": {
    "colab": {
      "name": "des18_seno_coseno_tangente.ipynb",
      "private_outputs": true,
      "provenance": [],
      "collapsed_sections": [],
      "authorship_tag": "ABX9TyNZ8kApSbDY9+pEKLWOoP8s",
      "include_colab_link": true
    },
    "kernelspec": {
      "name": "python3",
      "display_name": "Python 3"
    }
  },
  "cells": [
    {
      "cell_type": "markdown",
      "metadata": {
        "id": "view-in-github",
        "colab_type": "text"
      },
      "source": [
        "<a href=\"https://colab.research.google.com/github/jonatasvnascimento/Google-Colab-Python-CursoEmVideo/blob/main/des18_seno_coseno_tangente.ipynb\" target=\"_parent\"><img src=\"https://colab.research.google.com/assets/colab-badge.svg\" alt=\"Open In Colab\"/></a>"
      ]
    },
    {
      "cell_type": "code",
      "metadata": {
        "id": "pIHYczX4_lTD"
      },
      "source": [
        "import math\r\n",
        "\r\n",
        "angulo = float(input('Digie o angulo: '))\r\n",
        "SENO = math.sin(math.radians(angulo))\r\n",
        "CONSENO = math.acos(math.radians(angulo))\r\n",
        "TANGENTE = math.atan(math.radians(angulo))\r\n",
        "\r\n",
        "print(f'O angulo {angulo} tem o SENO {SENO :.2f}')\r\n",
        "print(f'O angulo {angulo} tem o CONSENO {CONSENO :.2f}')\r\n",
        "print(f'O angulo {angulo} tem o TANGENTE {TANGENTE :.2f}')"
      ],
      "execution_count": null,
      "outputs": []
    }
  ]
}