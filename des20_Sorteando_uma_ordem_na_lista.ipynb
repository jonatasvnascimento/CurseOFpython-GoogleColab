{
  "nbformat": 4,
  "nbformat_minor": 0,
  "metadata": {
    "colab": {
      "name": "des20 Sorteando uma ordem na lista.ipynb",
      "private_outputs": true,
      "provenance": [],
      "collapsed_sections": [],
      "authorship_tag": "ABX9TyPyJiXxyyxzFBI7oqAk882X",
      "include_colab_link": true
    },
    "kernelspec": {
      "name": "python3",
      "display_name": "Python 3"
    }
  },
  "cells": [
    {
      "cell_type": "markdown",
      "metadata": {
        "id": "view-in-github",
        "colab_type": "text"
      },
      "source": [
        "<a href=\"https://colab.research.google.com/github/jonatasvnascimento/Google-Colab-Python-CursoEmVideo/blob/main/des20_Sorteando_uma_ordem_na_lista.ipynb\" target=\"_parent\"><img src=\"https://colab.research.google.com/assets/colab-badge.svg\" alt=\"Open In Colab\"/></a>"
      ]
    },
    {
      "cell_type": "code",
      "metadata": {
        "id": "4ltiyns2_fiC"
      },
      "source": [
        "from random import shuffle\r\n",
        "\r\n",
        "n1 = str(input('Digite o nome da primeira pessoa: '))\r\n",
        "n2 = str(input('Digite o nome da segunda pessoa: '))\r\n",
        "n3 = str(input('Digite o nome da terceira pessoa: '))\r\n",
        "n4 = str(input('Digite o nome da quarta pessoa: '))\r\n",
        "\r\n",
        "nomes = [n1, n2, n3, n4]\r\n",
        "cshuffle(nomes)\r\n",
        "print(nomes)"
      ],
      "execution_count": null,
      "outputs": []
    }
  ]
}