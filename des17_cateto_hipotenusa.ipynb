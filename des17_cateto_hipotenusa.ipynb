{
  "nbformat": 4,
  "nbformat_minor": 0,
  "metadata": {
    "colab": {
      "name": "des17_cateto_hipotenusa.ipynb",
      "private_outputs": true,
      "provenance": [],
      "collapsed_sections": [],
      "authorship_tag": "ABX9TyPvIObK5G9wyr5PWws6ZMfh",
      "include_colab_link": true
    },
    "kernelspec": {
      "name": "python3",
      "display_name": "Python 3"
    }
  },
  "cells": [
    {
      "cell_type": "markdown",
      "metadata": {
        "id": "view-in-github",
        "colab_type": "text"
      },
      "source": [
        "<a href=\"https://colab.research.google.com/github/jonatasvnascimento/Google-Colab-Python-CursoEmVideo/blob/main/des17_cateto_hipotenusa.ipynb\" target=\"_parent\"><img src=\"https://colab.research.google.com/assets/colab-badge.svg\" alt=\"Open In Colab\"/></a>"
      ]
    },
    {
      "cell_type": "code",
      "metadata": {
        "id": "XaC-gDlL79lm"
      },
      "source": [
        "import math\r\n",
        "\r\n",
        "catetoAD = float(input('Diigite o cateto adjacente: '))\r\n",
        "catetoOP = float(input('Diigite o cateto oposto: '))\r\n",
        "hipotenusa = math.sqrt(catetoAD) + math.sqrt(catetoOP)\r\n",
        "print(f\"Hipotenusa mede: {hipotenusa :.2f}\")"
      ],
      "execution_count": null,
      "outputs": []
    }
  ]
}