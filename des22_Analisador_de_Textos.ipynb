{
  "nbformat": 4,
  "nbformat_minor": 0,
  "metadata": {
    "colab": {
      "name": "des22 Analisador de Textos.ipynb",
      "private_outputs": true,
      "provenance": [],
      "collapsed_sections": [],
      "authorship_tag": "ABX9TyNxjDCIAYlcENSow4B07DQW",
      "include_colab_link": true
    },
    "kernelspec": {
      "name": "python3",
      "display_name": "Python 3"
    }
  },
  "cells": [
    {
      "cell_type": "markdown",
      "metadata": {
        "id": "view-in-github",
        "colab_type": "text"
      },
      "source": [
        "<a href=\"https://colab.research.google.com/github/jonatasvnascimento/Google-Colab-Python-CursoEmVideo/blob/main/des22_Analisador_de_Textos.ipynb\" target=\"_parent\"><img src=\"https://colab.research.google.com/assets/colab-badge.svg\" alt=\"Open In Colab\"/></a>"
      ]
    },
    {
      "cell_type": "code",
      "metadata": {
        "id": "_qGhlyU4tpQc"
      },
      "source": [
        "nome  = str(input('Digite seu nome: '))\r\n",
        "\r\n",
        "mai = nome.upper()\r\n",
        "min = nome.lower()\r\n",
        "split = len(nome.replace(' ', ''))\r\n",
        "primeiro_nome = nome.find(' ')\r\n",
        "\r\n",
        "print(f'Seu nome em maiusculo e {mai}')\r\n",
        "print(f'Seu nome em minusculo e {min}')\r\n",
        "print(f'Seu nome tem {split} letras')\r\n",
        "print(f'Seu primeiro nome tem {primeiro_nome} letras')"
      ],
      "execution_count": null,
      "outputs": []
    }
  ]
}