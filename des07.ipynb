{
  "nbformat": 4,
  "nbformat_minor": 0,
  "metadata": {
    "colab": {
      "name": "des07.ipynb",
      "private_outputs": true,
      "provenance": [],
      "collapsed_sections": [],
      "authorship_tag": "ABX9TyNVlw6idp063KoCQYRjtiqx",
      "include_colab_link": true
    },
    "kernelspec": {
      "name": "python3",
      "display_name": "Python 3"
    }
  },
  "cells": [
    {
      "cell_type": "markdown",
      "metadata": {
        "id": "view-in-github",
        "colab_type": "text"
      },
      "source": [
        "<a href=\"https://colab.research.google.com/github/jonatasvnascimento/Google-Colab/blob/main/des07.ipynb\" target=\"_parent\"><img src=\"https://colab.research.google.com/assets/colab-badge.svg\" alt=\"Open In Colab\"/></a>"
      ]
    },
    {
      "cell_type": "code",
      "metadata": {
        "id": "-gcWr1nQmGL1"
      },
      "source": [
        "nota1 = int(input('Nota 1: '))\n",
        "nota2 = int(input('Nota 2: '))\n",
        "media = (nota1 + nota2) / 2\n",
        "\n",
        "print(f'A media entre {nota1} e {nota2} e {media}')"
      ],
      "execution_count": null,
      "outputs": []
    }
  ]
}