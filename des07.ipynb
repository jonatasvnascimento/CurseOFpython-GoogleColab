{
  "nbformat": 4,
  "nbformat_minor": 0,
  "metadata": {
    "colab": {
      "name": "des07.ipynb",
      "private_outputs": true,
      "provenance": [],
      "collapsed_sections": [],
      "authorship_tag": "ABX9TyO2vRnLj9v2e+X8aaaMa4sQ",
      "include_colab_link": true
    },
    "kernelspec": {
      "name": "python3",
      "display_name": "Python 3"
    }
  },
  "cells": [
    {
      "cell_type": "markdown",
      "metadata": {
        "id": "view-in-github",
        "colab_type": "text"
      },
      "source": [
        "<a href=\"https://colab.research.google.com/github/jonatasvnascimento/Google-Colab/blob/main/des07.ipynb\" target=\"_parent\"><img src=\"https://colab.research.google.com/assets/colab-badge.svg\" alt=\"Open In Colab\"/></a>"
      ]
    },
    {
      "cell_type": "code",
      "metadata": {
        "id": "RbKWvsATm63H"
      },
      "source": [
        "valor = int(input('Digite uma distancia em metros: '))\n",
        "\n",
        "print(f'A medida de {valor}m corresponde a')\n",
        "print(f'{valor * 0.001}km')\n",
        "print(f'{valor * 0.01}hm')\n",
        "print(f'{valor * 0.1 :.2f}dam')\n",
        "print(f'{valor * 10}dm')\n",
        "print(f'{valor * 100}cm')\n",
        "print(f'{valor * 1000}mm')"
      ],
      "execution_count": null,
      "outputs": []
    }
  ]
}