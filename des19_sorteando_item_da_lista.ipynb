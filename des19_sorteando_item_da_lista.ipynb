{
  "nbformat": 4,
  "nbformat_minor": 0,
  "metadata": {
    "colab": {
      "name": "des19_sorteando_item_da_lista.ipynb",
      "private_outputs": true,
      "provenance": [],
      "collapsed_sections": [],
      "authorship_tag": "ABX9TyPcu6jNsh63hfOPAs/VXhtb",
      "include_colab_link": true
    },
    "kernelspec": {
      "name": "python3",
      "display_name": "Python 3"
    }
  },
  "cells": [
    {
      "cell_type": "markdown",
      "metadata": {
        "id": "view-in-github",
        "colab_type": "text"
      },
      "source": [
        "<a href=\"https://colab.research.google.com/github/jonatasvnascimento/Google-Colab-Python-CursoEmVideo/blob/main/des19_sorteando_item_da_lista.ipynb\" target=\"_parent\"><img src=\"https://colab.research.google.com/assets/colab-badge.svg\" alt=\"Open In Colab\"/></a>"
      ]
    },
    {
      "cell_type": "code",
      "metadata": {
        "id": "3d4Jo9ofrW6C"
      },
      "source": [
        "import random\r\n",
        "nomes = ['Ana', 'Sophia', 'Antony', 'Toby']\r\n",
        "print(f'O aluno que ira apagar a lousa sera a: {random.choice(nomes)}')\r\n"
      ],
      "execution_count": null,
      "outputs": []
    }
  ]
}