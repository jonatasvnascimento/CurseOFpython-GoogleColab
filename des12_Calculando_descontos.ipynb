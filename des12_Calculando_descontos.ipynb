{
  "nbformat": 4,
  "nbformat_minor": 0,
  "metadata": {
    "colab": {
      "name": "des12 Calculando descontos.ipynb",
      "private_outputs": true,
      "provenance": [],
      "collapsed_sections": [],
      "authorship_tag": "ABX9TyMm7x1Gq3t2bBk4ixe3+UnS",
      "include_colab_link": true
    },
    "kernelspec": {
      "name": "python3",
      "display_name": "Python 3"
    }
  },
  "cells": [
    {
      "cell_type": "markdown",
      "metadata": {
        "id": "view-in-github",
        "colab_type": "text"
      },
      "source": [
        "<a href=\"https://colab.research.google.com/github/jonatasvnascimento/Google-Colab-Python-CursoEmVideo/blob/main/des12_Calculando_descontos.ipynb\" target=\"_parent\"><img src=\"https://colab.research.google.com/assets/colab-badge.svg\" alt=\"Open In Colab\"/></a>"
      ]
    },
    {
      "cell_type": "code",
      "metadata": {
        "id": "kJdjeeNjZV74"
      },
      "source": [
        "# Calcule 5% de desconto de um produto\n",
        "\n",
        "produto = int(input('Qual o preço do produto: '))\n",
        "v_desconto = 0.05\n",
        "desconto = produto * v_desconto\n",
        "valor_final = produto - desconto\n",
        "\n",
        "print(f'O produto custava {produto} e com desconto de {v_desconto :.2f}% ficou {valor_final}')"
      ],
      "execution_count": null,
      "outputs": []
    }
  ]
}