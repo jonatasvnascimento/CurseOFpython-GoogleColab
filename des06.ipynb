{
  "nbformat": 4,
  "nbformat_minor": 0,
  "metadata": {
    "colab": {
      "name": "des06.ipynb",
      "private_outputs": true,
      "provenance": [],
      "collapsed_sections": [],
      "authorship_tag": "ABX9TyPC46PWBfWXGU6BBRhgcm8F",
      "include_colab_link": true
    },
    "kernelspec": {
      "name": "python3",
      "display_name": "Python 3"
    }
  },
  "cells": [
    {
      "cell_type": "markdown",
      "metadata": {
        "id": "view-in-github",
        "colab_type": "text"
      },
      "source": [
        "<a href=\"https://colab.research.google.com/github/jonatasvnascimento/Google-Colab/blob/main/des06.ipynb\" target=\"_parent\"><img src=\"https://colab.research.google.com/assets/colab-badge.svg\" alt=\"Open In Colab\"/></a>"
      ]
    },
    {
      "cell_type": "code",
      "metadata": {
        "id": "4UYV7zJAk4ua"
      },
      "source": [
        "num = int(input('Digite um numero: '))\n",
        "\n",
        "print(f'O dobro de {num} e {num * 2}')\n",
        "print(f'O triplo de {num} e {num * 3}')\n",
        "print(f'A raiz quadrada de {num} e {num ** 0.5 }')"
      ],
      "execution_count": null,
      "outputs": []
    }
  ]
}