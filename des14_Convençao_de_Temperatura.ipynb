{
  "nbformat": 4,
  "nbformat_minor": 0,
  "metadata": {
    "colab": {
      "name": "des14 Convençao de Temperatura.ipynb",
      "private_outputs": true,
      "provenance": [],
      "collapsed_sections": [],
      "authorship_tag": "ABX9TyPVav5GthWBGDB0mPCHlCYU",
      "include_colab_link": true
    },
    "kernelspec": {
      "name": "python3",
      "display_name": "Python 3"
    }
  },
  "cells": [
    {
      "cell_type": "markdown",
      "metadata": {
        "id": "view-in-github",
        "colab_type": "text"
      },
      "source": [
        "<a href=\"https://colab.research.google.com/github/jonatasvnascimento/Google-Colab-Python-CursoEmVideo/blob/main/des14_Conven%C3%A7ao_de_Temperatura.ipynb\" target=\"_parent\"><img src=\"https://colab.research.google.com/assets/colab-badge.svg\" alt=\"Open In Colab\"/></a>"
      ]
    },
    {
      "cell_type": "code",
      "metadata": {
        "id": "sT4-dnohB0df"
      },
      "source": [
        "temp = float(input('Informe a temperatura em °C: '))\n",
        "\n",
        "kelvin = temp + 273\n",
        "Fahrenheit = 1.8 * temp + 32\n",
        "print(f'A temperatura de {temp}C° corresponde a {Fahrenheit}°F')\n",
        "print(f'A temperatura de {temp}C° corresponde a {kelvin}°K')"
      ],
      "execution_count": null,
      "outputs": []
    }
  ]
}