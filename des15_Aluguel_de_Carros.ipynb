{
  "nbformat": 4,
  "nbformat_minor": 0,
  "metadata": {
    "colab": {
      "name": "des15 Aluguel de Carros.ipynb",
      "private_outputs": true,
      "provenance": [],
      "collapsed_sections": [],
      "authorship_tag": "ABX9TyNwGxAKt9cUKGosSMbtogQB",
      "include_colab_link": true
    },
    "kernelspec": {
      "name": "python3",
      "display_name": "Python 3"
    }
  },
  "cells": [
    {
      "cell_type": "markdown",
      "metadata": {
        "id": "view-in-github",
        "colab_type": "text"
      },
      "source": [
        "<a href=\"https://colab.research.google.com/github/jonatasvnascimento/Google-Colab-Python-CursoEmVideo/blob/main/des15_Aluguel_de_Carros.ipynb\" target=\"_parent\"><img src=\"https://colab.research.google.com/assets/colab-badge.svg\" alt=\"Open In Colab\"/></a>"
      ]
    },
    {
      "cell_type": "code",
      "metadata": {
        "id": "TqKp7Vl3Ezhc"
      },
      "source": [
        "dias = float(input('Quantidade de dias usado: '))\n",
        "km = float(input('Quantidade de KM rodado: '))\n",
        "carro_dia = 60\n",
        "km_rodado = 0.15\n",
        "\n",
        "v_pagar = (dias * carro_dia) + (km_rodado * km)\n",
        "print(f'O total a pagar e de R${v_pagar}')\n"
      ],
      "execution_count": null,
      "outputs": []
    }
  ]
}