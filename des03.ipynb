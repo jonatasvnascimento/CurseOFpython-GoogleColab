{
  "nbformat": 4,
  "nbformat_minor": 0,
  "metadata": {
    "colab": {
      "name": "des03.ipynb",
      "private_outputs": true,
      "provenance": [],
      "collapsed_sections": [],
      "authorship_tag": "ABX9TyOneQmr9s5xqpjCzA8/Ccnd",
      "include_colab_link": true
    },
    "kernelspec": {
      "name": "python3",
      "display_name": "Python 3"
    }
  },
  "cells": [
    {
      "cell_type": "markdown",
      "metadata": {
        "id": "view-in-github",
        "colab_type": "text"
      },
      "source": [
        "<a href=\"https://colab.research.google.com/github/jonatasvnascimento/Google-Colab/blob/main/des03.ipynb\" target=\"_parent\"><img src=\"https://colab.research.google.com/assets/colab-badge.svg\" alt=\"Open In Colab\"/></a>"
      ]
    },
    {
      "cell_type": "code",
      "metadata": {
        "id": "fvv2ki7IHKbm"
      },
      "source": [
        "num1 = int(input('value1: '))\n",
        "num2 = int(input('value2: '))\n",
        "\n",
        "print(f'A soma de {num1} + {num2} + {num1 + num2}')"
      ],
      "execution_count": null,
      "outputs": []
    }
  ]
}