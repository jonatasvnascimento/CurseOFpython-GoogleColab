{
  "nbformat": 4,
  "nbformat_minor": 0,
  "metadata": {
    "colab": {
      "name": "des04.ipynb",
      "private_outputs": true,
      "provenance": [],
      "collapsed_sections": [],
      "authorship_tag": "ABX9TyMQoh4h0pReFUS3lW1NvIqu",
      "include_colab_link": true
    },
    "kernelspec": {
      "name": "python3",
      "display_name": "Python 3"
    }
  },
  "cells": [
    {
      "cell_type": "markdown",
      "metadata": {
        "id": "view-in-github",
        "colab_type": "text"
      },
      "source": [
        "<a href=\"https://colab.research.google.com/github/jonatasvnascimento/Google-Colab/blob/main/des04.ipynb\" target=\"_parent\"><img src=\"https://colab.research.google.com/assets/colab-badge.svg\" alt=\"Open In Colab\"/></a>"
      ]
    },
    {
      "cell_type": "code",
      "metadata": {
        "id": "Pj4fyJZAMMYC"
      },
      "source": [
        "string_validator = input('Digite uma palavra: ')\n",
        "\n",
        "print(f\"Alphanumerico: {string_validator.isalpha()}\")\n",
        "print(f\"Decimal: {string_validator.isdecimal()}\")\n",
        "print(f\"Digito: {string_validator.isdigit()}\")\n",
        "print(f\"Numerico: {string_validator.isnumeric()}\")\n",
        "print(f\"Indentificador: {string_validator.isidentifier()}\")\n",
        "print(f\"Maiuscula: {string_validator.islower()}\")\n",
        "print(f\"Espaços: {string_validator.isspace()}\")"
      ],
      "execution_count": null,
      "outputs": []
    }
  ]
}