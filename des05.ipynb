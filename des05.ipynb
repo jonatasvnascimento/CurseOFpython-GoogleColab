{
  "nbformat": 4,
  "nbformat_minor": 0,
  "metadata": {
    "colab": {
      "name": "des05.ipynb",
      "private_outputs": true,
      "provenance": [],
      "collapsed_sections": [],
      "authorship_tag": "ABX9TyN2FhFVeC1VBB53tsUMbF4C",
      "include_colab_link": true
    },
    "kernelspec": {
      "name": "python3",
      "display_name": "Python 3"
    }
  },
  "cells": [
    {
      "cell_type": "markdown",
      "metadata": {
        "id": "view-in-github",
        "colab_type": "text"
      },
      "source": [
        "<a href=\"https://colab.research.google.com/github/jonatasvnascimento/Google-Colab/blob/main/des05.ipynb\" target=\"_parent\"><img src=\"https://colab.research.google.com/assets/colab-badge.svg\" alt=\"Open In Colab\"/></a>"
      ]
    },
    {
      "cell_type": "code",
      "metadata": {
        "id": "K90ZZ-0B9CsF"
      },
      "source": [
        "x = int(input('Digite um valor: '))\n",
        "\n",
        "print(f'O sucessor de {x} e {x + 1} e o antecessor e {x - 1}')"
      ],
      "execution_count": null,
      "outputs": []
    }
  ]
}