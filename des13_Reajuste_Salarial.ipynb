{
  "nbformat": 4,
  "nbformat_minor": 0,
  "metadata": {
    "colab": {
      "name": "des13 - Reajuste Salarial.ipynb",
      "private_outputs": true,
      "provenance": [],
      "collapsed_sections": [],
      "authorship_tag": "ABX9TyNtCpPl74r11bpfgDX5T701",
      "include_colab_link": true
    },
    "kernelspec": {
      "name": "python3",
      "display_name": "Python 3"
    }
  },
  "cells": [
    {
      "cell_type": "markdown",
      "metadata": {
        "id": "view-in-github",
        "colab_type": "text"
      },
      "source": [
        "<a href=\"https://colab.research.google.com/github/jonatasvnascimento/Google-Colab-Python-CursoEmVideo/blob/main/des13_Reajuste_Salarial.ipynb\" target=\"_parent\"><img src=\"https://colab.research.google.com/assets/colab-badge.svg\" alt=\"Open In Colab\"/></a>"
      ]
    },
    {
      "cell_type": "code",
      "metadata": {
        "id": "dYVAAGCJbvXy"
      },
      "source": [
        "salario = float(input('Qual e o salario do funcionario: '))\n",
        "salario_final = (salario * (15 / 100)) + salario\n",
        "print(f'Um funcionario que ganhava {salario} com 15% de aumento, passa a receber {salario_final :.2f}')"
      ],
      "execution_count": null,
      "outputs": []
    }
  ]
}